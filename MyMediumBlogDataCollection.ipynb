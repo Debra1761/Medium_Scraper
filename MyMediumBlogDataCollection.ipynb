{
 "cells": [
  {
   "cell_type": "code",
   "execution_count": 57,
   "metadata": {
    "id": "hRiCMgGgp2vl"
   },
   "outputs": [],
   "source": [
    "# Imports\n",
    "from selenium import webdriver\n",
    "import time\n",
    "from bs4 import BeautifulSoup\n",
    "import numpy as np\n",
    "                                        \n",
    "import pandas as pd"
   ]
  },
  {
   "cell_type": "code",
   "execution_count": 58,
   "metadata": {
    "id": "VkyAazWaqB8q"
   },
   "outputs": [],
   "source": [
    "# Input Google login info to get into Medium\n",
    "email = 'it@datadice.io'\n",
    "password = 'b$72ZT*yIv0P#H%lh45O1ToL8D'"
   ]
  },
  {
   "cell_type": "code",
   "execution_count": 59,
   "metadata": {
    "id": "zS-X9_JfqDgL"
   },
   "outputs": [],
   "source": [
    "# Goes through splash and login process\n",
    "import time\n",
    "\n",
    "from selenium.webdriver.common.by import By\n",
    "def splash_process(driver, email, password):\n",
    "    \n",
    "    # Goes to sign in page\n",
    "    driver.get('https://medium.com/m/signin')\n",
    "\n",
    "    # Clicks sign in button\n",
    "#    driver.find_element_by_xpath(\".//button[contains(.,'All sign in options')]\").click()\n",
    "    time.sleep(10)\n",
    "    # Clicks sign in with Google\n",
    "   #/html/body/div[2]/div/div/div/div/div/div[2]/a/div\n",
    "    driver.find_element(By.XPATH,'/html/body/div[2]/div/div/div/div/div/div[2]/a/div').click()\n",
    "    #driver.find_element_by_xpath(\".//button[contains(.,'Sign in with Google')]\").click()\n",
    "    time.sleep(5)\n",
    "    # Finds email field\n",
    "    email_field = driver.find_element_by_id(\"identifierId\")\n",
    "    time.sleep(1)\n",
    "    # Types in email\n",
    "    email_field.send_keys(email)\n",
    "\n",
    "    # Clicks next button\n",
    "    driver.find_element_by_id(\"identifierNext\").click()\n",
    "\n",
    "    # Wait a sec\n",
    "    time.sleep(1)\n",
    "\n",
    "    # Finds password field\n",
    "    pass_field = driver.find_element_by_name(\"password\")\n",
    "    time.sleep(1)\n",
    "    # Types in password\n",
    "    pass_field.send_keys(password)\n",
    "\n",
    "    # Click next button\n",
    "    driver.find_element_by_id(\"passwordNext\").click()\n",
    "    \n",
    "    # Wait a sec\n",
    "    time.sleep(10)\n",
    "    \n",
    "    # Go to stats page and return it \n",
    "    driver.get('https://medium.com/me/stats')\n",
    "    time.sleep(1)"
   ]
  },
  {
   "cell_type": "code",
   "execution_count": 60,
   "metadata": {
    "id": "z_quCD-MqL6Z"
   },
   "outputs": [],
   "source": [
    "# Scrolls to bottom to get all posts into view\n",
    "def scroll(driver):\n",
    "\n",
    "    # Get scroll height\n",
    "    last_height = driver.execute_script(\"return document.body.scrollHeight\")\n",
    "\n",
    "    while True:\n",
    "        # Scroll down to bottom\n",
    "        driver.execute_script(\"window.scrollTo(0, document.body.scrollHeight);\")\n",
    "\n",
    "        # Wait to load page\n",
    "        time.sleep(5)\n",
    "\n",
    "        # Calculate new scroll height and compare with last scroll height\n",
    "        new_height = driver.execute_script(\"return document.body.scrollHeight\")\n",
    "        if new_height == last_height:\n",
    "            break\n",
    "        last_height = new_height"
   ]
  },
  {
   "cell_type": "code",
   "execution_count": 61,
   "metadata": {},
   "outputs": [
    {
     "name": "stderr",
     "output_type": "stream",
     "text": [
      "\n",
      "\n",
      "====== WebDriver manager ======\n",
      "Current google-chrome version is 106.0.5249\n",
      "Get LATEST chromedriver version for 106.0.5249 google-chrome\n",
      "Trying to download new driver from https://chromedriver.storage.googleapis.com/106.0.5249.61/chromedriver_mac64.zip\n",
      "Driver has been saved in cache [/Users/deborahmenezes/.wdm/drivers/chromedriver/mac64/106.0.5249.61]\n"
     ]
    }
   ],
   "source": [
    "from selenium import webdriver\n",
    "from selenium.webdriver.chrome.service import Service\n",
    "from webdriver_manager.chrome import ChromeDriverManager\n",
    "\n",
    "driver = webdriver.Chrome(service=Service(ChromeDriverManager().install()))\n"
   ]
  },
  {
   "cell_type": "code",
   "execution_count": 62,
   "metadata": {
    "id": "c5GOiVZeqT4h",
    "scrolled": true
   },
   "outputs": [
    {
     "name": "stderr",
     "output_type": "stream",
     "text": [
      "/var/folders/ff/yy0n6l355vlgtrrd503kz0_c0000gn/T/ipykernel_11302/4026262192.py:19: DeprecationWarning: find_element_by_* commands are deprecated. Please use find_element() instead\n",
      "  email_field = driver.find_element_by_id(\"identifierId\")\n",
      "/var/folders/ff/yy0n6l355vlgtrrd503kz0_c0000gn/T/ipykernel_11302/4026262192.py:25: DeprecationWarning: find_element_by_* commands are deprecated. Please use find_element() instead\n",
      "  driver.find_element_by_id(\"identifierNext\").click()\n",
      "/var/folders/ff/yy0n6l355vlgtrrd503kz0_c0000gn/T/ipykernel_11302/4026262192.py:31: DeprecationWarning: find_element_by_* commands are deprecated. Please use find_element() instead\n",
      "  pass_field = driver.find_element_by_name(\"password\")\n",
      "/var/folders/ff/yy0n6l355vlgtrrd503kz0_c0000gn/T/ipykernel_11302/4026262192.py:37: DeprecationWarning: find_element_by_* commands are deprecated. Please use find_element() instead\n",
      "  driver.find_element_by_id(\"passwordNext\").click()\n"
     ]
    }
   ],
   "source": [
    "# Log in!\n",
    "splash_process(driver, USER, PASS)\n",
    "scroll(driver)"
   ]
  },
  {
   "cell_type": "code",
   "execution_count": 34,
   "metadata": {
    "id": "YjV0VndUqUmB",
    "scrolled": true
   },
   "outputs": [],
   "source": [
    "# Grab the main table html from Medium stats \n",
    "table = driver.find_element(By.CLASS_NAME,'js-statsTableBody')"
   ]
  },
  {
   "cell_type": "code",
   "execution_count": 64,
   "metadata": {
    "id": "2LNlret_qdvw"
   },
   "outputs": [
    {
     "ename": "WebDriverException",
     "evalue": "Message: disconnected: unable to connect to renderer\n  (failed to check if window was closed: disconnected: unable to connect to renderer)\n  (Session info: chrome=106.0.5249.119)\nStacktrace:\n0   chromedriver                        0x0000000104868598 chromedriver + 4404632\n1   chromedriver                        0x00000001047effa3 chromedriver + 3911587\n2   chromedriver                        0x000000010449ce6a chromedriver + 425578\n3   chromedriver                        0x00000001044878e9 chromedriver + 338153\n4   chromedriver                        0x00000001044877bf chromedriver + 337855\n5   chromedriver                        0x000000010449e4c9 chromedriver + 431305\n6   chromedriver                        0x00000001045095c1 chromedriver + 869825\n7   chromedriver                        0x00000001044f2bd3 chromedriver + 777171\n8   chromedriver                        0x00000001044c7ced chromedriver + 601325\n9   chromedriver                        0x00000001044c8e51 chromedriver + 605777\n10  chromedriver                        0x00000001048380ce chromedriver + 4206798\n11  chromedriver                        0x000000010483c797 chromedriver + 4224919\n12  chromedriver                        0x0000000104843a4f chromedriver + 4254287\n13  chromedriver                        0x000000010483d4da chromedriver + 4228314\n14  chromedriver                        0x000000010481623f chromedriver + 4067903\n15  chromedriver                        0x000000010485a6a8 chromedriver + 4347560\n16  chromedriver                        0x000000010485a816 chromedriver + 4347926\n17  chromedriver                        0x000000010486f8fe chromedriver + 4434174\n18  libsystem_pthread.dylib             0x00007ff8012e5514 _pthread_start + 125\n19  libsystem_pthread.dylib             0x00007ff8012e102f thread_start + 15\n",
     "output_type": "error",
     "traceback": [
      "\u001b[0;31m---------------------------------------------------------------------------\u001b[0m",
      "\u001b[0;31mWebDriverException\u001b[0m                        Traceback (most recent call last)",
      "Input \u001b[0;32mIn [64]\u001b[0m, in \u001b[0;36m<module>\u001b[0;34m\u001b[0m\n\u001b[1;32m      1\u001b[0m \u001b[38;5;66;03m# Get the raw html from our table element\u001b[39;00m\n\u001b[0;32m----> 2\u001b[0m raw_html \u001b[38;5;241m=\u001b[39m \u001b[43mtable\u001b[49m\u001b[38;5;241;43m.\u001b[39;49m\u001b[43mget_attribute\u001b[49m\u001b[43m(\u001b[49m\u001b[38;5;124;43m'\u001b[39;49m\u001b[38;5;124;43minnerHTML\u001b[39;49m\u001b[38;5;124;43m'\u001b[39;49m\u001b[43m)\u001b[49m\n",
      "File \u001b[0;32m/Library/Frameworks/Python.framework/Versions/3.10/lib/python3.10/site-packages/selenium/webdriver/remote/webelement.py:155\u001b[0m, in \u001b[0;36mWebElement.get_attribute\u001b[0;34m(self, name)\u001b[0m\n\u001b[1;32m    128\u001b[0m \u001b[38;5;28;01mdef\u001b[39;00m \u001b[38;5;21mget_attribute\u001b[39m(\u001b[38;5;28mself\u001b[39m, name) \u001b[38;5;241m-\u001b[39m\u001b[38;5;241m>\u001b[39m \u001b[38;5;28mstr\u001b[39m:\n\u001b[1;32m    129\u001b[0m     \u001b[38;5;124;03m\"\"\"Gets the given attribute or property of the element.\u001b[39;00m\n\u001b[1;32m    130\u001b[0m \n\u001b[1;32m    131\u001b[0m \u001b[38;5;124;03m    This method will first try to return the value of a property with the\u001b[39;00m\n\u001b[0;32m   (...)\u001b[0m\n\u001b[1;32m    152\u001b[0m \n\u001b[1;32m    153\u001b[0m \u001b[38;5;124;03m    \"\"\"\u001b[39;00m\n\u001b[0;32m--> 155\u001b[0m     attribute_value \u001b[38;5;241m=\u001b[39m \u001b[38;5;28;43mself\u001b[39;49m\u001b[38;5;241;43m.\u001b[39;49m\u001b[43mparent\u001b[49m\u001b[38;5;241;43m.\u001b[39;49m\u001b[43mexecute_script\u001b[49m\u001b[43m(\u001b[49m\n\u001b[1;32m    156\u001b[0m \u001b[43m        \u001b[49m\u001b[38;5;124;43m\"\u001b[39;49m\u001b[38;5;124;43mreturn (\u001b[39;49m\u001b[38;5;132;43;01m%s\u001b[39;49;00m\u001b[38;5;124;43m).apply(null, arguments);\u001b[39;49m\u001b[38;5;124;43m\"\u001b[39;49m\u001b[43m \u001b[49m\u001b[38;5;241;43m%\u001b[39;49m\u001b[43m \u001b[49m\u001b[43mgetAttribute_js\u001b[49m\u001b[43m,\u001b[49m\n\u001b[1;32m    157\u001b[0m \u001b[43m        \u001b[49m\u001b[38;5;28;43mself\u001b[39;49m\u001b[43m,\u001b[49m\u001b[43m \u001b[49m\u001b[43mname\u001b[49m\u001b[43m)\u001b[49m\n\u001b[1;32m    158\u001b[0m     \u001b[38;5;28;01mreturn\u001b[39;00m attribute_value\n",
      "File \u001b[0;32m/Library/Frameworks/Python.framework/Versions/3.10/lib/python3.10/site-packages/selenium/webdriver/remote/webdriver.py:878\u001b[0m, in \u001b[0;36mWebDriver.execute_script\u001b[0;34m(self, script, *args)\u001b[0m\n\u001b[1;32m    875\u001b[0m converted_args \u001b[38;5;241m=\u001b[39m \u001b[38;5;28mlist\u001b[39m(args)\n\u001b[1;32m    876\u001b[0m command \u001b[38;5;241m=\u001b[39m Command\u001b[38;5;241m.\u001b[39mW3C_EXECUTE_SCRIPT\n\u001b[0;32m--> 878\u001b[0m \u001b[38;5;28;01mreturn\u001b[39;00m \u001b[38;5;28;43mself\u001b[39;49m\u001b[38;5;241;43m.\u001b[39;49m\u001b[43mexecute\u001b[49m\u001b[43m(\u001b[49m\u001b[43mcommand\u001b[49m\u001b[43m,\u001b[49m\u001b[43m \u001b[49m\u001b[43m{\u001b[49m\n\u001b[1;32m    879\u001b[0m \u001b[43m    \u001b[49m\u001b[38;5;124;43m'\u001b[39;49m\u001b[38;5;124;43mscript\u001b[39;49m\u001b[38;5;124;43m'\u001b[39;49m\u001b[43m:\u001b[49m\u001b[43m \u001b[49m\u001b[43mscript\u001b[49m\u001b[43m,\u001b[49m\n\u001b[1;32m    880\u001b[0m \u001b[43m    \u001b[49m\u001b[38;5;124;43m'\u001b[39;49m\u001b[38;5;124;43margs\u001b[39;49m\u001b[38;5;124;43m'\u001b[39;49m\u001b[43m:\u001b[49m\u001b[43m \u001b[49m\u001b[43mconverted_args\u001b[49m\u001b[43m}\u001b[49m\u001b[43m)\u001b[49m[\u001b[38;5;124m'\u001b[39m\u001b[38;5;124mvalue\u001b[39m\u001b[38;5;124m'\u001b[39m]\n",
      "File \u001b[0;32m/Library/Frameworks/Python.framework/Versions/3.10/lib/python3.10/site-packages/selenium/webdriver/remote/webdriver.py:424\u001b[0m, in \u001b[0;36mWebDriver.execute\u001b[0;34m(self, driver_command, params)\u001b[0m\n\u001b[1;32m    422\u001b[0m response \u001b[38;5;241m=\u001b[39m \u001b[38;5;28mself\u001b[39m\u001b[38;5;241m.\u001b[39mcommand_executor\u001b[38;5;241m.\u001b[39mexecute(driver_command, params)\n\u001b[1;32m    423\u001b[0m \u001b[38;5;28;01mif\u001b[39;00m response:\n\u001b[0;32m--> 424\u001b[0m     \u001b[38;5;28;43mself\u001b[39;49m\u001b[38;5;241;43m.\u001b[39;49m\u001b[43merror_handler\u001b[49m\u001b[38;5;241;43m.\u001b[39;49m\u001b[43mcheck_response\u001b[49m\u001b[43m(\u001b[49m\u001b[43mresponse\u001b[49m\u001b[43m)\u001b[49m\n\u001b[1;32m    425\u001b[0m     response[\u001b[38;5;124m'\u001b[39m\u001b[38;5;124mvalue\u001b[39m\u001b[38;5;124m'\u001b[39m] \u001b[38;5;241m=\u001b[39m \u001b[38;5;28mself\u001b[39m\u001b[38;5;241m.\u001b[39m_unwrap_value(\n\u001b[1;32m    426\u001b[0m         response\u001b[38;5;241m.\u001b[39mget(\u001b[38;5;124m'\u001b[39m\u001b[38;5;124mvalue\u001b[39m\u001b[38;5;124m'\u001b[39m, \u001b[38;5;28;01mNone\u001b[39;00m))\n\u001b[1;32m    427\u001b[0m     \u001b[38;5;28;01mreturn\u001b[39;00m response\n",
      "File \u001b[0;32m/Library/Frameworks/Python.framework/Versions/3.10/lib/python3.10/site-packages/selenium/webdriver/remote/errorhandler.py:247\u001b[0m, in \u001b[0;36mErrorHandler.check_response\u001b[0;34m(self, response)\u001b[0m\n\u001b[1;32m    245\u001b[0m         alert_text \u001b[38;5;241m=\u001b[39m value[\u001b[38;5;124m'\u001b[39m\u001b[38;5;124malert\u001b[39m\u001b[38;5;124m'\u001b[39m]\u001b[38;5;241m.\u001b[39mget(\u001b[38;5;124m'\u001b[39m\u001b[38;5;124mtext\u001b[39m\u001b[38;5;124m'\u001b[39m)\n\u001b[1;32m    246\u001b[0m     \u001b[38;5;28;01mraise\u001b[39;00m exception_class(message, screen, stacktrace, alert_text)  \u001b[38;5;66;03m# type: ignore[call-arg]  # mypy is not smart enough here\u001b[39;00m\n\u001b[0;32m--> 247\u001b[0m \u001b[38;5;28;01mraise\u001b[39;00m exception_class(message, screen, stacktrace)\n",
      "\u001b[0;31mWebDriverException\u001b[0m: Message: disconnected: unable to connect to renderer\n  (failed to check if window was closed: disconnected: unable to connect to renderer)\n  (Session info: chrome=106.0.5249.119)\nStacktrace:\n0   chromedriver                        0x0000000104868598 chromedriver + 4404632\n1   chromedriver                        0x00000001047effa3 chromedriver + 3911587\n2   chromedriver                        0x000000010449ce6a chromedriver + 425578\n3   chromedriver                        0x00000001044878e9 chromedriver + 338153\n4   chromedriver                        0x00000001044877bf chromedriver + 337855\n5   chromedriver                        0x000000010449e4c9 chromedriver + 431305\n6   chromedriver                        0x00000001045095c1 chromedriver + 869825\n7   chromedriver                        0x00000001044f2bd3 chromedriver + 777171\n8   chromedriver                        0x00000001044c7ced chromedriver + 601325\n9   chromedriver                        0x00000001044c8e51 chromedriver + 605777\n10  chromedriver                        0x00000001048380ce chromedriver + 4206798\n11  chromedriver                        0x000000010483c797 chromedriver + 4224919\n12  chromedriver                        0x0000000104843a4f chromedriver + 4254287\n13  chromedriver                        0x000000010483d4da chromedriver + 4228314\n14  chromedriver                        0x000000010481623f chromedriver + 4067903\n15  chromedriver                        0x000000010485a6a8 chromedriver + 4347560\n16  chromedriver                        0x000000010485a816 chromedriver + 4347926\n17  chromedriver                        0x000000010486f8fe chromedriver + 4434174\n18  libsystem_pthread.dylib             0x00007ff8012e5514 _pthread_start + 125\n19  libsystem_pthread.dylib             0x00007ff8012e102f thread_start + 15\n"
     ]
    }
   ],
   "source": [
    "# Get the raw html from our table element\n",
    "raw_html = table.get_attribute('innerHTML')"
   ]
  },
  {
   "cell_type": "code",
   "execution_count": 65,
   "metadata": {
    "id": "ik5zt0ryqfty"
   },
   "outputs": [
    {
     "name": "stdout",
     "output_type": "stream",
     "text": [
      "<tr class=\"sortableTable-row sortableTable-row--dateBucket\"><td><span class=\"sortableTable-value\">1665492821784</span><header class=\"heading heading--allCaps\"><div class=\"u-clearfix\"><div class=\"heading-content u-floatLeft\"><span class=\"heading-title heading-title--bold\">October 2022</span></div></div></header></td></tr><tr class=\"sortableTable-row js-statsTableRow\" data-action-value=\"bb24a6b0782e\" data-timestamp=\"1665491441527\"><td class=\"sortableTable-rowTitle\"><span class=\"sortableTable-value\">1665492821784</span><div class=\"sortableTable-title u-maxWidth450\"><a href=\"https://medium.com/me/stats/post/bb24a6b0782e?source=main_stats_page\">Latest Updates on Google Data Analytics (September 2022)</a></div><span class=\"sortableTable-text u-paddingTop10\"><span class=\"u-xs-hide\"><span class=\"readingTime\" title=\"5 min read\"></span><span class=\"middotDivider\"></span><em>In </em><a class=\"link u-baseColor--link sortableTable-link\" href=\"https://medium.com/geekculture\">Geek Culture</a><span class=\"middotDivider\"></span></span><a class=\"link u-baseColor--link sortableTable-link\" href=\"https://medium.com/geekculture/latest-updates-on-google-data-analytics-september-2022-bb24a6b0782e\">View story</a><span class=\"middotDivider\"></span><a class=\"link u-baseColor--link sortableTable-link\" href=\"https://medium.com/me/stats/post/bb24a6b0782e?source=main_stats_page\">Details</a></span></td><td><span class=\"sortableTable-value\">31</span><span class=\"sortableTable-number\" title=\"31\">31<span class=\"u-sm-show\"><br>views</span></span></td><td><span class=\"sortableTable-value\">8</span><span class=\"sortableTable-number\" title=\"8\">8<span class=\"u-sm-show\"><br>reads</span></span></td><td><span class=\"sortableTable-value\">25.806451612903224</span><span class=\"sortableTable-number\">26%<span class=\"u-sm-show\"><br>ratio</span></span></td><td><span class=\"sortableTable-value\">5</span><span class=\"sortableTable-number\" title=\"5\">5<span class=\"u-sm-show\"><br>fans</span></span></td></tr><tr class=\"sortableTable-row sortableTable-row--dateBucket\"><td><span class=\"sortableTable-value\">1663690261721</span><header class=\"heading heading--allCaps\"><div class=\"u-clearfix\"><div class=\"heading-content u-floatLeft\"><span class=\"heading-title heading-title--bold\">September 2022</span></div></div></header></td></tr><tr class=\"sortableTable-row js-statsTableRow\" data-action-value=\"dc1134d89e82\" data-timestamp=\"1663689835093\"><td class=\"sortableTable-rowTitle\"><span class=\"sortableTable-value\">1663690261721</span><div class=\"sortableTable-title u-maxWidth450\"><a href=\"https://medium.com/me/stats/post/dc1134d89e82?source=main_stats_page\">Universal Analytics vs. Google Analytics 4 (Part 1)</a></div><span class=\"sortableTable-text u-paddingTop10\"><span class=\"u-xs-hide\"><span class=\"readingTime\" title=\"4 min read\"></span><span class=\"middotDivider\"></span></span><a class=\"link u-baseColor--link sortableTable-link\" href=\"https://medium.com/p/universal-analytics-vs-google-analytics-4-part-1-dc1134d89e82\">View story</a><span class=\"middotDivider\"></span><a class=\"link u-baseColor--link sortableTable-link\" href=\"https://medium.com/me/stats/post/dc1134d89e82?source=main_stats_page\">Details</a></span></td><td><span class=\"sortableTable-value\">67</span><span class=\"sortableTable-number\" title=\"67\">67<span class=\"u-sm-show\"><br>views</span></span></td><td><span class=\"sortableTable-value\">25</span><span class=\"sortableTable-number\" title=\"25\">25<span class=\"u-sm-show\"><br>reads</span></span></td><td><span class=\"sortableTable-value\">37.3134328358209</span><span class=\"sortableTable-number\">37%<span class=\"u-sm-show\"><br>ratio</span></span></td><td><span class=\"sortableTable-value\">8</span><span class=\"sortableTable-number\" title=\"8\">8<span class=\"u-sm-show\"><br>fans</span></span></td></tr><tr class=\"sortableTable-row js-statsTableRow\" data-action-value=\"5be3c178a75a\" data-timestamp=\"1663016028811\"><td class=\"sortableTable-rowTitle\"><span class=\"sortableTable-value\">1663016765472</span><div class=\"sortableTable-title u-maxWidth450\"><a href=\"https://medium.com/me/stats/post/5be3c178a75a?source=main_stats_page\">Latest Updates on Google Data Analytics (August 2022)</a></div><span class=\"sortableTable-text u-paddingTop10\"><span class=\"u-xs-hide\"><span class=\"readingTime\" title=\"5 min read\"></span><span class=\"middotDivider\"></span><em>In </em><a class=\"link u-baseColor--link sortableTable-link\" href=\"https://medium.com/geekculture\">Geek Culture</a><span class=\"middotDivider\"></span></span><a class=\"link u-baseColor--link sortableTable-link\" href=\"https://medium.com/geekculture/latest-updates-on-google-data-analytics-august-2022-5be3c178a75a\">View story</a><span class=\"middotDivider\"></span><a class=\"link u-baseColor--link sortableTable-link\" href=\"https://medium.com/me/stats/post/5be3c178a75a?source=main_stats_page\">Details</a></span></td><td><span class=\"sortableTable-value\">100</span><span class=\"sortableTable-number\" title=\"100\">100<span class=\"u-sm-show\"><br>views</s\n"
     ]
    }
   ],
   "source": [
    "# Preview html\n",
    "print(raw_html[0:5000])"
   ]
  },
  {
   "cell_type": "code",
   "execution_count": 66,
   "metadata": {
    "id": "Tin6wroiqheH"
   },
   "outputs": [],
   "source": [
    "# Quit our driver\n",
    "driver.quit()"
   ]
  },
  {
   "cell_type": "code",
   "execution_count": 67,
   "metadata": {
    "id": "ldN4cvCvqj23"
   },
   "outputs": [],
   "source": [
    "# Clean html  \n",
    "soup = BeautifulSoup(raw_html, 'html.parser')"
   ]
  },
  {
   "cell_type": "code",
   "execution_count": 68,
   "metadata": {
    "id": "Rc4Yc4rWqljU"
   },
   "outputs": [
    {
     "name": "stdout",
     "output_type": "stream",
     "text": [
      "['Latest Updates on Google Data Analytics (September 2022)', 'Geek Culture', 'View story', 'Details', 'Universal Analytics vs. Google Analytics 4 (Part 1)', 'View story', 'Details', 'Latest Updates on Google Data Analytics (August 2022)', 'Geek Culture', 'View story', 'Details', 'New Data Studio feature: Linking API', 'Geek Culture', 'View story', 'Details', 'Generate Dummy Data With Faker', 'View story', 'Details', 'Latest Updates on Google Data Analytics (July 2022)', 'Geek Culture', 'View story', 'Details', 'Google Analytics 4 in Data Studio', 'View story', 'Details', 'More Data Modeling Functions in Y42 (Part 3)', 'Towards Dev', 'View story', 'Details', 'How to create a Google Account without Gmail', 'View story', 'Details', 'Latest Updates on Google Data Analytics (June 2022)', 'Geek Culture', 'View story', 'Details']\n"
     ]
    }
   ],
   "source": [
    "# Story titles\n",
    "titles = [item.text for i, item in enumerate(soup.select('a'))]\n",
    "print(titles)"
   ]
  },
  {
   "cell_type": "code",
   "execution_count": 69,
   "metadata": {},
   "outputs": [
    {
     "name": "stdout",
     "output_type": "stream",
     "text": [
      "16 ['Latest Updates on Google Data Analytics (September 2022)', 'Geek Culture', 'Universal Analytics vs. Google Analytics 4 (Part 1)', 'Latest Updates on Google Data Analytics (August 2022)', 'Geek Culture', 'New Data Studio feature: Linking API', 'Geek Culture', 'Generate Dummy Data With Faker', 'Latest Updates on Google Data Analytics (July 2022)', 'Geek Culture', 'Google Analytics 4 in Data Studio', 'More Data Modeling Functions in Y42 (Part 3)', 'Towards Dev', 'How to create a Google Account without Gmail', 'Latest Updates on Google Data Analytics (June 2022)', 'Geek Culture']\n"
     ]
    }
   ],
   "source": [
    "#fetching out the story title \n",
    "title_names = []\n",
    "for title in titles:\n",
    "    if len(title) > 10:\n",
    "        title_names.append(title)\n",
    "        \n",
    "print(len(title_names), title_names)    "
   ]
  },
  {
   "cell_type": "code",
   "execution_count": 70,
   "metadata": {
    "id": "WugO12Vdq6JU"
   },
   "outputs": [
    {
     "name": "stdout",
     "output_type": "stream",
     "text": [
      "10 ['5 min read', '4 min read', '5 min read', '5 min read', '7 min read', '6 min read', '5 min read', '5 min read', '3 min read', '7 min read']\n"
     ]
    }
   ],
   "source": [
    "# Reading times\n",
    "read_times = [item.get('title') for i, item in enumerate(soup.findAll('span', {'class':'readingTime'}))]\n",
    "print(len(read_times), read_times)"
   ]
  },
  {
   "cell_type": "code",
   "execution_count": 71,
   "metadata": {},
   "outputs": [
    {
     "ename": "NameError",
     "evalue": "name 'nums' is not defined",
     "output_type": "error",
     "traceback": [
      "\u001b[0;31m---------------------------------------------------------------------------\u001b[0m",
      "\u001b[0;31mNameError\u001b[0m                                 Traceback (most recent call last)",
      "Input \u001b[0;32mIn [71]\u001b[0m, in \u001b[0;36m<module>\u001b[0;34m\u001b[0m\n\u001b[1;32m      1\u001b[0m \u001b[38;5;66;03m# Views\u001b[39;00m\n\u001b[0;32m----> 2\u001b[0m views \u001b[38;5;241m=\u001b[39m \u001b[43mnums\u001b[49m[::\u001b[38;5;241m4\u001b[39m]\n\u001b[1;32m      3\u001b[0m \u001b[38;5;28mprint\u001b[39m(\u001b[38;5;28mlen\u001b[39m(views), views)\n",
      "\u001b[0;31mNameError\u001b[0m: name 'nums' is not defined"
     ]
    }
   ],
   "source": [
    "# Views\n",
    "views = nums[::4]\n",
    "print(len(views), views)"
   ]
  },
  {
   "cell_type": "code",
   "execution_count": 72,
   "metadata": {
    "id": "aiAOk8BqrB_5"
   },
   "outputs": [
    {
     "ename": "NameError",
     "evalue": "name 'nums' is not defined",
     "output_type": "error",
     "traceback": [
      "\u001b[0;31m---------------------------------------------------------------------------\u001b[0m",
      "\u001b[0;31mNameError\u001b[0m                                 Traceback (most recent call last)",
      "Input \u001b[0;32mIn [72]\u001b[0m, in \u001b[0;36m<module>\u001b[0;34m\u001b[0m\n\u001b[1;32m      1\u001b[0m \u001b[38;5;66;03m# Reads\u001b[39;00m\n\u001b[0;32m----> 2\u001b[0m reads \u001b[38;5;241m=\u001b[39m \u001b[43mnums\u001b[49m[\u001b[38;5;241m1\u001b[39m::\u001b[38;5;241m4\u001b[39m]\n\u001b[1;32m      3\u001b[0m \u001b[38;5;28mprint\u001b[39m(\u001b[38;5;28mlen\u001b[39m(reads), reads)\n",
      "\u001b[0;31mNameError\u001b[0m: name 'nums' is not defined"
     ]
    }
   ],
   "source": [
    "# Reads\n",
    "reads = nums[1::4]\n",
    "print(len(reads), reads)"
   ]
  },
  {
   "cell_type": "code",
   "execution_count": 73,
   "metadata": {
    "id": "ctt2DvTWrFkZ"
   },
   "outputs": [
    {
     "ename": "NameError",
     "evalue": "name 'nums' is not defined",
     "output_type": "error",
     "traceback": [
      "\u001b[0;31m---------------------------------------------------------------------------\u001b[0m",
      "\u001b[0;31mNameError\u001b[0m                                 Traceback (most recent call last)",
      "Input \u001b[0;32mIn [73]\u001b[0m, in \u001b[0;36m<module>\u001b[0;34m\u001b[0m\n\u001b[1;32m      1\u001b[0m \u001b[38;5;66;03m# Read ratio\u001b[39;00m\n\u001b[0;32m----> 2\u001b[0m ratio \u001b[38;5;241m=\u001b[39m \u001b[43mnums\u001b[49m[\u001b[38;5;241m2\u001b[39m::\u001b[38;5;241m4\u001b[39m]\n\u001b[1;32m      3\u001b[0m \u001b[38;5;28mprint\u001b[39m(\u001b[38;5;28mlen\u001b[39m(ratio),ratio)\n",
      "\u001b[0;31mNameError\u001b[0m: name 'nums' is not defined"
     ]
    }
   ],
   "source": [
    "# Read ratio\n",
    "ratio = nums[2::4]\n",
    "print(len(ratio),ratio)"
   ]
  },
  {
   "cell_type": "code",
   "execution_count": 247,
   "metadata": {
    "id": "vQ7XvkIHrHFx"
   },
   "outputs": [
    {
     "name": "stdout",
     "output_type": "stream",
     "text": [
      "10 ['5', '4', '4', '5', '3', '5', '7', '5', '11', '6']\n"
     ]
    }
   ],
   "source": [
    "# Fans\n",
    "fans = nums[3::4]\n",
    "print(len(ratio), fans)"
   ]
  },
  {
   "cell_type": "code",
   "execution_count": 230,
   "metadata": {
    "id": "swVpOf1WrJHN"
   },
   "outputs": [],
   "source": [
    "# Create dataframe\n",
    "df = pd.DataFrame(data={'Title': title_names, 'Read Time': read_times,'Views': views, \n",
    "                        'Reads': reads, 'Read Ratio': ratio, 'Fans': fans})"
   ]
  },
  {
   "cell_type": "code",
   "execution_count": 232,
   "metadata": {
    "id": "K3oeUsoXrLny"
   },
   "outputs": [],
   "source": [
    "# Reorder columns\n",
    "df_selenium = df[['Title','Read Time', 'Views', 'Reads', 'Read Ratio', 'Fans']]"
   ]
  },
  {
   "cell_type": "code",
   "execution_count": 233,
   "metadata": {
    "id": "A2JDygFTrMXc"
   },
   "outputs": [
    {
     "data": {
      "text/html": [
       "<div>\n",
       "<style scoped>\n",
       "    .dataframe tbody tr th:only-of-type {\n",
       "        vertical-align: middle;\n",
       "    }\n",
       "\n",
       "    .dataframe tbody tr th {\n",
       "        vertical-align: top;\n",
       "    }\n",
       "\n",
       "    .dataframe thead th {\n",
       "        text-align: right;\n",
       "    }\n",
       "</style>\n",
       "<table border=\"1\" class=\"dataframe\">\n",
       "  <thead>\n",
       "    <tr style=\"text-align: right;\">\n",
       "      <th></th>\n",
       "      <th>Title</th>\n",
       "      <th>Read Time</th>\n",
       "      <th>Views</th>\n",
       "      <th>Reads</th>\n",
       "      <th>Read Ratio</th>\n",
       "      <th>Fans</th>\n",
       "    </tr>\n",
       "  </thead>\n",
       "  <tbody>\n",
       "    <tr>\n",
       "      <th>0</th>\n",
       "      <td>Latest Updates on Google Data Analytics (Decem...</td>\n",
       "      <td>4 min read</td>\n",
       "      <td>56</td>\n",
       "      <td>22</td>\n",
       "      <td>39.285714285714285</td>\n",
       "      <td>5</td>\n",
       "    </tr>\n",
       "    <tr>\n",
       "      <th>1</th>\n",
       "      <td>The Wrangler User Interface of Cloud Data Fusion</td>\n",
       "      <td>5 min read</td>\n",
       "      <td>62</td>\n",
       "      <td>37</td>\n",
       "      <td>59.67741935483871</td>\n",
       "      <td>4</td>\n",
       "    </tr>\n",
       "    <tr>\n",
       "      <th>2</th>\n",
       "      <td>Latest Updates on Google Data Analytics (Novem...</td>\n",
       "      <td>4 min read</td>\n",
       "      <td>195</td>\n",
       "      <td>89</td>\n",
       "      <td>45.64102564102564</td>\n",
       "      <td>4</td>\n",
       "    </tr>\n",
       "    <tr>\n",
       "      <th>3</th>\n",
       "      <td>New Data Studio feature: New navigation</td>\n",
       "      <td>4 min read</td>\n",
       "      <td>197</td>\n",
       "      <td>83</td>\n",
       "      <td>42.131979695431475</td>\n",
       "      <td>5</td>\n",
       "    </tr>\n",
       "    <tr>\n",
       "      <th>4</th>\n",
       "      <td>Introduction to Cloud Data Fusion</td>\n",
       "      <td>7 min read</td>\n",
       "      <td>228</td>\n",
       "      <td>82</td>\n",
       "      <td>35.96491228070175</td>\n",
       "      <td>3</td>\n",
       "    </tr>\n",
       "  </tbody>\n",
       "</table>\n",
       "</div>"
      ],
      "text/plain": [
       "                                               Title   Read Time Views Reads  \\\n",
       "0  Latest Updates on Google Data Analytics (Decem...  4 min read    56    22   \n",
       "1   The Wrangler User Interface of Cloud Data Fusion  5 min read    62    37   \n",
       "2  Latest Updates on Google Data Analytics (Novem...  4 min read   195    89   \n",
       "3            New Data Studio feature: New navigation  4 min read   197    83   \n",
       "4                  Introduction to Cloud Data Fusion  7 min read   228    82   \n",
       "\n",
       "           Read Ratio Fans  \n",
       "0  39.285714285714285    5  \n",
       "1   59.67741935483871    4  \n",
       "2   45.64102564102564    4  \n",
       "3  42.131979695431475    5  \n",
       "4   35.96491228070175    3  "
      ]
     },
     "execution_count": 233,
     "metadata": {},
     "output_type": "execute_result"
    }
   ],
   "source": [
    "# Preview\n",
    "df_selenium"
   ]
  },
  {
   "cell_type": "code",
   "execution_count": 234,
   "metadata": {
    "id": "DHK9huz7rJ9o"
   },
   "outputs": [
    {
     "name": "stdout",
     "output_type": "stream",
     "text": [
      "<class 'pandas.core.frame.DataFrame'>\n",
      "RangeIndex: 10 entries, 0 to 9\n",
      "Data columns (total 6 columns):\n",
      " #   Column      Non-Null Count  Dtype \n",
      "---  ------      --------------  ----- \n",
      " 0   Title       10 non-null     object\n",
      " 1   Read Time   10 non-null     object\n",
      " 2   Views       10 non-null     object\n",
      " 3   Reads       10 non-null     object\n",
      " 4   Read Ratio  10 non-null     object\n",
      " 5   Fans        10 non-null     object\n",
      "dtypes: object(6)\n",
      "memory usage: 608.0+ bytes\n"
     ]
    }
   ],
   "source": [
    "# Overview\n",
    "df.info()"
   ]
  },
  {
   "cell_type": "code",
   "execution_count": 235,
   "metadata": {
    "id": "SYv046FZrRlG"
   },
   "outputs": [
    {
     "name": "stdout",
     "output_type": "stream",
     "text": [
      "<class 'pandas.core.frame.DataFrame'>\n",
      "RangeIndex: 10 entries, 0 to 9\n",
      "Data columns (total 6 columns):\n",
      " #   Column      Non-Null Count  Dtype  \n",
      "---  ------      --------------  -----  \n",
      " 0   Title       10 non-null     object \n",
      " 1   Read Time   10 non-null     int64  \n",
      " 2   Views       10 non-null     int64  \n",
      " 3   Reads       10 non-null     int64  \n",
      " 4   Read Ratio  10 non-null     float64\n",
      " 5   Fans        10 non-null     int64  \n",
      "dtypes: float64(1), int64(4), object(1)\n",
      "memory usage: 608.0+ bytes\n"
     ]
    }
   ],
   "source": [
    "# Convert numerical features to floats\n",
    "df = df.apply(pd.to_numeric, errors='ignore')\n",
    "df['Read Time'] = df['Read Time'].apply(lambda x: int(x.split()[0]))\n",
    "df.info()"
   ]
  },
  {
   "cell_type": "code",
   "execution_count": null,
   "metadata": {
    "id": "R7n4ZyowrXTy"
   },
   "outputs": [],
   "source": []
  },
  {
   "cell_type": "code",
   "execution_count": null,
   "metadata": {},
   "outputs": [],
   "source": []
  },
  {
   "cell_type": "code",
   "execution_count": null,
   "metadata": {},
   "outputs": [],
   "source": []
  },
  {
   "cell_type": "code",
   "execution_count": null,
   "metadata": {},
   "outputs": [],
   "source": []
  },
  {
   "cell_type": "code",
   "execution_count": null,
   "metadata": {},
   "outputs": [],
   "source": []
  },
  {
   "cell_type": "markdown",
   "metadata": {},
   "source": [
    "## Creating a dataframe from our medium site by downloading the stats in a json format"
   ]
  },
  {
   "cell_type": "code",
   "execution_count": null,
   "metadata": {},
   "outputs": [],
   "source": [
    "# ------------------------------- Setup -------------------------------- #\n",
    "import pandas as pd\n",
    "import json\n",
    "import re\n",
    "pd.options.display.max_columns=200\n",
    "\n",
    "# -------------------- Extract Medium Story Stats ---------------------- #\n",
    "\n",
    "# Read text file\n",
    "string = open('mystat.json', 'r', encoding='utf-8').read()\n",
    "\n",
    "# Remove unnecessary preceding characters and save as DataFrame\n",
    "df=pd.DataFrame(json.loads(re.sub(r'^.*?{', '{', string)))\n",
    "\n",
    "# Extract story stats \n",
    "df_stories=pd.json_normalize(df.loc['value', 'payload'], sep='_')\n",
    "\n",
    "\n",
    "# ------------------- Bonus: User and Publications --------------------- #\n",
    "\n",
    "# Create a reference DataFrame\n",
    "ref=pd.json_normalize(df.loc['references', 'payload'], max_level=1, sep='_')\n",
    "\n",
    "# Extract User and Publication information\n",
    "df_publications=pd.DataFrame()\n",
    "\n",
    "for i in ref.columns:\n",
    "    if i[:4]=='User':\n",
    "        df_user=pd.json_normalize(ref.loc[0,i], sep='_')\n",
    "    elif i[:4]=='Coll':\n",
    "        tmp=pd.json_normalize(ref.loc[0,i], sep='_')\n",
    "        df_publications=pd.concat([df_publications, tmp], axis=0)\n",
    "    else: print(\"new Category Found: \"+i)\n",
    "\n",
    "\n",
    "# ---------- Bonus 2: Convert Timestamps to readable format  ----------- #\n",
    "\n",
    "# Convert timestamps to readable datetime\n",
    "date_fields=['createdAt', 'firstPublishedAt', 'primaryTopic_createdAt']\n",
    "for j in date_fields:\n",
    "    df_stories[j]=pd.to_datetime(df_stories[j], unit='ms')"
   ]
  },
  {
   "cell_type": "code",
   "execution_count": null,
   "metadata": {},
   "outputs": [],
   "source": [
    "#view the dataframe \n",
    "df_stories"
   ]
  },
  {
   "cell_type": "code",
   "execution_count": null,
   "metadata": {},
   "outputs": [],
   "source": [
    "#Taking only the relevant data out from the table \n",
    "df_rawhtml = pd.DataFrame(df_stories, columns=['title','createdAt','upvotes', 'claps','internalReferrerViews','primaryTopic_name'   ])"
   ]
  },
  {
   "cell_type": "code",
   "execution_count": null,
   "metadata": {},
   "outputs": [],
   "source": [
    "#Merging the two dataframes, df_selenium and df_rawhtml joining with the title \n",
    "#df"
   ]
  },
  {
   "cell_type": "code",
   "execution_count": null,
   "metadata": {},
   "outputs": [],
   "source": [
    "# Export as csv\n",
    "#df.to_csv('My_Final_Medium_Stats.csv', index=False)"
   ]
  }
 ],
 "metadata": {
  "colab": {
   "name": "MyMediumBlogDataCollection.ipynb",
   "provenance": []
  },
  "kernelspec": {
   "display_name": "Python 3 (ipykernel)",
   "language": "python",
   "name": "python3"
  },
  "language_info": {
   "codemirror_mode": {
    "name": "ipython",
    "version": 3
   },
   "file_extension": ".py",
   "mimetype": "text/x-python",
   "name": "python",
   "nbconvert_exporter": "python",
   "pygments_lexer": "ipython3",
   "version": "3.10.1"
  }
 },
 "nbformat": 4,
 "nbformat_minor": 1
}
